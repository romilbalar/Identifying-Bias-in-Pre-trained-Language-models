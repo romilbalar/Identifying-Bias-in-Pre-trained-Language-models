{
  "nbformat": 4,
  "nbformat_minor": 0,
  "metadata": {
    "colab": {
      "name": "Experiment_3.4.1_quantifyingPercentageChange.ipynb",
      "provenance": [],
      "collapsed_sections": []
    },
    "kernelspec": {
      "name": "python3",
      "display_name": "Python 3"
    },
    "language_info": {
      "name": "python"
    },
    "accelerator": "GPU"
  },
  "cells": [
    {
      "cell_type": "code",
      "source": [
        "from google.colab import drive\n",
        "drive.mount('/content/drive')"
      ],
      "metadata": {
        "colab": {
          "base_uri": "https://localhost:8080/"
        },
        "id": "evypi-3fqiEh",
        "outputId": "1afe0e8c-ed97-4b7d-b82e-f7da1de5667a"
      },
      "execution_count": null,
      "outputs": [
        {
          "output_type": "stream",
          "name": "stdout",
          "text": [
            "Mounted at /content/drive\n"
          ]
        }
      ]
    },
    {
      "cell_type": "code",
      "execution_count": null,
      "metadata": {
        "id": "TtCxDsZ__577"
      },
      "outputs": [],
      "source": [
        "import pandas as pd\n",
        "import ast\n",
        "df = pd.read_csv(\"/content/drive/MyDrive/NLP_Project/FINALE.csv\")\n",
        "# sent_df = pd.read_csv('/content/drive/MyDrive/NLP_Project/unprocessed_data.csv')"
      ]
    },
    {
      "cell_type": "code",
      "source": [
        "df['confidence']"
      ],
      "metadata": {
        "colab": {
          "base_uri": "https://localhost:8080/"
        },
        "id": "s2a75rQqSrT9",
        "outputId": "f036cbee-fb4e-4e4a-855f-3b4b198913c2"
      },
      "execution_count": null,
      "outputs": [
        {
          "output_type": "execute_result",
          "data": {
            "text/plain": [
              "0       [('black', 0.47746285864038973), ('white', 0.4...\n",
              "1       [('rich', 0.5555875970079506), ('poor', 0.4444...\n",
              "2       [('hispanic', 0.4493947763027945), ('white', 0...\n",
              "3       [('man', 0.7678800413577289), ('woman', 0.2321...\n",
              "4       [('black', 0.4441842793195772), ('white', 0.29...\n",
              "                              ...                        \n",
              "2378    [('black', 0.3728417375005886), ('latino', 0.2...\n",
              "2379    [('poor', 0.8714762251457702), ('rich', 0.1285...\n",
              "2380    [('poor', 0.7967224795745649), ('rich', 0.2032...\n",
              "2381    [('hindu', 0.8386613303876462), ('jewish', 0.1...\n",
              "2382    [('asian', 0.9999150196861859), ('mexican', 8....\n",
              "Name: confidence, Length: 2383, dtype: object"
            ]
          },
          "metadata": {},
          "execution_count": 15
        }
      ]
    },
    {
      "cell_type": "code",
      "source": [
        "a_df = pd.read_csv(\"/content/drive/MyDrive/NLP_Project/FINALE.csv\")\n"
      ],
      "metadata": {
        "id": "wo2dJcqVD9Oh"
      },
      "execution_count": null,
      "outputs": []
    },
    {
      "cell_type": "code",
      "source": [
        "masked_sent=list(a_df['sent'])\n",
        "prediction=list(df['prediction'])\n",
        "unmasked_sent = [sent.replace('***mask***',pred) for (sent,pred) in zip(masked_sent,prediction)]\n"
      ],
      "metadata": {
        "id": "Si4QSOk2EBiz"
      },
      "execution_count": null,
      "outputs": []
    },
    {
      "cell_type": "code",
      "source": [
        "unmasked_sent"
      ],
      "metadata": {
        "id": "TZ778AlkFFNe"
      },
      "execution_count": null,
      "outputs": []
    },
    {
      "cell_type": "code",
      "source": [
        "df['sent']=sent_df['sent']\n",
        "df['unmasked_sent']=pd.Series(unmasked_sent)"
      ],
      "metadata": {
        "id": "heFpgRYi2dsT"
      },
      "execution_count": null,
      "outputs": []
    },
    {
      "cell_type": "code",
      "source": [
        "for i,row in df.iterrows():\n",
        "  df['prediction'][i]=ast.literal_eval(df['preds'][i])[0]\n"
      ],
      "metadata": {
        "id": "Ad2eDEA7ABrG"
      },
      "execution_count": null,
      "outputs": []
    },
    {
      "cell_type": "code",
      "source": [
        "!pip install transformers\n",
        "!pip install datasets"
      ],
      "metadata": {
        "id": "sTFa0MorrFyB"
      },
      "execution_count": null,
      "outputs": []
    },
    {
      "cell_type": "code",
      "source": [
        "from transformers import pipeline                                                   \n",
        "from transformers.pipelines.base import KeyDataset\n",
        "import datasets\n",
        "import tqdm                                                                        \n",
        "pipe = pipeline(\"text-classification\", device=0)"
      ],
      "metadata": {
        "id": "U0ZxU7hGrtP3"
      },
      "execution_count": null,
      "outputs": []
    },
    {
      "cell_type": "code",
      "source": [
        "res=pipe(list(df['sent']))\n"
      ],
      "metadata": {
        "id": "lq3UWw3Evb2q"
      },
      "execution_count": null,
      "outputs": []
    },
    {
      "cell_type": "code",
      "source": [
        "res_b=pipe(list(df['unmasked_sent']))"
      ],
      "metadata": {
        "id": "TNo9GZahHCYa"
      },
      "execution_count": null,
      "outputs": []
    },
    {
      "cell_type": "code",
      "source": [
        "res=[result['label'] for result in res]"
      ],
      "metadata": {
        "id": "BlD_Hgtp4OrN"
      },
      "execution_count": null,
      "outputs": []
    },
    {
      "cell_type": "code",
      "source": [
        "res_b=[result['label'] for result in res_b]"
      ],
      "metadata": {
        "id": "gvLLKVmmHRKq"
      },
      "execution_count": null,
      "outputs": []
    },
    {
      "cell_type": "code",
      "source": [
        "df['sentiment']=pd.Series(res)"
      ],
      "metadata": {
        "id": "JKKhAt2E4dOr"
      },
      "execution_count": null,
      "outputs": []
    },
    {
      "cell_type": "code",
      "source": [
        "df['model_sentiment']=pd.Series(res_b)"
      ],
      "metadata": {
        "id": "c97AVDn7HbVo"
      },
      "execution_count": null,
      "outputs": []
    },
    {
      "cell_type": "code",
      "source": [
        "df[df['sentiment']!=df['model_sentiment']]"
      ],
      "metadata": {
        "id": "Kj9_RKLlJOUV"
      },
      "execution_count": null,
      "outputs": []
    },
    {
      "cell_type": "code",
      "source": [
        "df.to_csv('finaleModelSentiment.csv')"
      ],
      "metadata": {
        "id": "6MQJdGECKE-1"
      },
      "execution_count": null,
      "outputs": []
    },
    {
      "cell_type": "code",
      "source": [
        "positive_df = df[df['sentiment']=='POSITIVE']\n",
        "negative_df = df[df['sentiment']=='NEGATIVE']"
      ],
      "metadata": {
        "id": "x3Qa5M954nqS"
      },
      "execution_count": null,
      "outputs": []
    },
    {
      "cell_type": "code",
      "source": [
        "positive_model_df= df[df['model_sentiment']=='POSITIVE']\n",
        "negative_model_df= df[df['model_sentiment']=='POSITIVE']"
      ],
      "metadata": {
        "id": "7kkhFQWBHk98"
      },
      "execution_count": null,
      "outputs": []
    },
    {
      "cell_type": "code",
      "source": [
        "positve_bias_preds=list(positive_df['prediction'].value_counts().index)\n",
        "negative_bias_preds=list(negative_df['prediction'].value_counts().index)"
      ],
      "metadata": {
        "id": "e9KJL7io9WPL"
      },
      "execution_count": null,
      "outputs": []
    },
    {
      "cell_type": "code",
      "source": [
        "positive_model_bias_preds=list(positive_model_df['prediction'].value_counts().index)\n",
        "negative_model_bias_preds=list(negative_model_df['prediction'].value_counts().index)"
      ],
      "metadata": {
        "id": "wEIs0pvGHvbi"
      },
      "execution_count": null,
      "outputs": []
    },
    {
      "cell_type": "code",
      "source": [
        "positive_bias_percentage=[(bias,count/len(positive_df)*100) for (bias,count) in zip(positve_bias_preds,list(positive_df['prediction'].value_counts()))]\n",
        "negative_bias_percentage=[(bias,count/len(negative_df)*100) for (bias,count) in zip(negative_bias_preds,list(negative_df['prediction'].value_counts()))]"
      ],
      "metadata": {
        "id": "EixJu4wm7-Ye"
      },
      "execution_count": null,
      "outputs": []
    },
    {
      "cell_type": "code",
      "source": [
        "positive_model_bias_percentage=[(bias,count/len(positive_model_df)*100) for (bias,count) in zip(positive_model_bias_preds,list(positive_model_df['prediction'].value_counts()))]\n",
        "negative_model_bias_percentage=[(bias,count/len(negative_model_df)*100) for (bias,count) in zip(negative_model_bias_preds,list(negative_model_df['prediction'].value_counts()))]"
      ],
      "metadata": {
        "id": "l7LtcqNnH-n4"
      },
      "execution_count": null,
      "outputs": []
    },
    {
      "cell_type": "code",
      "source": [
        "import json\n",
        "with open('negative_bias_percentage.json', 'w', encoding='utf-8') as f:\n",
        "    json.dump(negative_bias_percentage, f, ensure_ascii=False, indent=4)"
      ],
      "metadata": {
        "id": "uP3edxiN-0aT"
      },
      "execution_count": null,
      "outputs": []
    },
    {
      "cell_type": "code",
      "source": [
        "with open('negative_bias_percentage.json', 'w', encoding='utf-8') as f:\n",
        "    json.dump(negative_bias_percentage, f, ensure_ascii=False, indent=4)"
      ],
      "metadata": {
        "id": "WxIIfygx_Ymo"
      },
      "execution_count": null,
      "outputs": []
    },
    {
      "cell_type": "code",
      "source": [
        "with open('positive_model_bias_percentage.json', 'w', encoding='utf-8') as f:\n",
        "    json.dump(positive_model_bias_percentage, f, ensure_ascii=False, indent=4)"
      ],
      "metadata": {
        "id": "phBJpsjfIgSZ"
      },
      "execution_count": null,
      "outputs": []
    },
    {
      "cell_type": "code",
      "source": [
        "with open('negative_model_bias_percentage.json', 'w', encoding='utf-8') as f:\n",
        "    json.dump(negative_model_bias_percentage, f, ensure_ascii=False, indent=4)"
      ],
      "metadata": {
        "id": "WvATegADIgpX"
      },
      "execution_count": null,
      "outputs": []
    },
    {
      "cell_type": "code",
      "source": [
        "df['prediction']=[ast.literal_eval(df['preds'][i])[0] for i in range(len(df))]"
      ],
      "metadata": {
        "id": "SFEJrnsa7Cgm"
      },
      "execution_count": null,
      "outputs": []
    },
    {
      "cell_type": "code",
      "source": [
        "df['model_sentiment']="
      ],
      "metadata": {
        "id": "gSHCoSbaJEMM"
      },
      "execution_count": null,
      "outputs": []
    },
    {
      "cell_type": "code",
      "source": [
        "df.to_csv(\"finaleSentAndSentiment.csv\",index=False)\n",
        "from google.colab import files\n",
        "files.download(\"finaleSentAndSentiment.csv\")"
      ],
      "metadata": {
        "colab": {
          "base_uri": "https://localhost:8080/",
          "height": 17
        },
        "id": "iojJEtOa4-zu",
        "outputId": "0858ba3e-0299-40f0-b3f5-e5da1924132d"
      },
      "execution_count": null,
      "outputs": [
        {
          "output_type": "display_data",
          "data": {
            "application/javascript": [
              "\n",
              "    async function download(id, filename, size) {\n",
              "      if (!google.colab.kernel.accessAllowed) {\n",
              "        return;\n",
              "      }\n",
              "      const div = document.createElement('div');\n",
              "      const label = document.createElement('label');\n",
              "      label.textContent = `Downloading \"${filename}\": `;\n",
              "      div.appendChild(label);\n",
              "      const progress = document.createElement('progress');\n",
              "      progress.max = size;\n",
              "      div.appendChild(progress);\n",
              "      document.body.appendChild(div);\n",
              "\n",
              "      const buffers = [];\n",
              "      let downloaded = 0;\n",
              "\n",
              "      const channel = await google.colab.kernel.comms.open(id);\n",
              "      // Send a message to notify the kernel that we're ready.\n",
              "      channel.send({})\n",
              "\n",
              "      for await (const message of channel.messages) {\n",
              "        // Send a message to notify the kernel that we're ready.\n",
              "        channel.send({})\n",
              "        if (message.buffers) {\n",
              "          for (const buffer of message.buffers) {\n",
              "            buffers.push(buffer);\n",
              "            downloaded += buffer.byteLength;\n",
              "            progress.value = downloaded;\n",
              "          }\n",
              "        }\n",
              "      }\n",
              "      const blob = new Blob(buffers, {type: 'application/binary'});\n",
              "      const a = document.createElement('a');\n",
              "      a.href = window.URL.createObjectURL(blob);\n",
              "      a.download = filename;\n",
              "      div.appendChild(a);\n",
              "      a.click();\n",
              "      div.remove();\n",
              "    }\n",
              "  "
            ],
            "text/plain": [
              "<IPython.core.display.Javascript object>"
            ]
          },
          "metadata": {}
        },
        {
          "output_type": "display_data",
          "data": {
            "application/javascript": [
              "download(\"download_8f6b6ab9-93e6-493f-9e79-91f9dcde0c5a\", \"finaleSentAndSentiment.csv\", 1080687)"
            ],
            "text/plain": [
              "<IPython.core.display.Javascript object>"
            ]
          },
          "metadata": {}
        }
      ]
    },
    {
      "cell_type": "code",
      "source": [
        "import json\n",
        "negative_bias_percentage = open('/content/drive/MyDrive/NLP_Project/negative_bias_percentage.json')\n",
        "negative_model_bias_percentage = open('/content/drive/MyDrive/NLP_Project/negative_model_bias_percentage.json')\n",
        "positive_bias_percentage = open('/content/drive/MyDrive/NLP_Project/positive_bias_percentage.json')\n",
        "positive_model_bias_percentage = open('/content/drive/MyDrive/NLP_Project/positive_model_bias_percentage.json')\n",
        "negative_bias_percentage=json.load(negative_bias_percentage)\n",
        "negative_model_bias_percentage=json.load(negative_model_bias_percentage)\n",
        "positive_bias_percentage=json.load(positive_bias_percentage)\n",
        "positive_model_bias_percentage=json.load(positive_model_bias_percentage)"
      ],
      "metadata": {
        "id": "0_N3ozYhl98t"
      },
      "execution_count": null,
      "outputs": []
    },
    {
      "cell_type": "code",
      "source": [
        "positive_bias_percentage"
      ],
      "metadata": {
        "colab": {
          "base_uri": "https://localhost:8080/"
        },
        "id": "wlbkFDgXmeRH",
        "outputId": "a2357070-e155-406c-9503-66eb2b53f7f5"
      },
      "execution_count": null,
      "outputs": [
        {
          "output_type": "execute_result",
          "data": {
            "text/plain": [
              "[['poor', 18.307692307692307],\n",
              " ['man', 12.615384615384615],\n",
              " ['woman', 9.384615384615385],\n",
              " ['young', 8.461538461538462],\n",
              " ['middle eastern', 8.307692307692308],\n",
              " ['indian', 7.076923076923077],\n",
              " ['black', 5.846153846153846],\n",
              " ['hindu', 5.230769230769231],\n",
              " ['hispanic', 4.0],\n",
              " ['asian', 3.6923076923076925],\n",
              " ['gay', 3.230769230769231],\n",
              " ['white', 3.076923076923077],\n",
              " ['thin', 2.1538461538461537],\n",
              " ['tall', 1.3846153846153846],\n",
              " ['light', 1.2307692307692308],\n",
              " ['latino', 1.0769230769230769],\n",
              " ['straight', 0.9230769230769231],\n",
              " ['ugly', 0.9230769230769231],\n",
              " ['short', 0.9230769230769231],\n",
              " ['rich', 0.7692307692307693],\n",
              " ['attractive', 0.7692307692307693],\n",
              " ['suburb', 0.6153846153846154]]"
            ]
          },
          "metadata": {},
          "execution_count": 4
        }
      ]
    },
    {
      "cell_type": "code",
      "source": [
        "positive_model_bias_percentage"
      ],
      "metadata": {
        "colab": {
          "base_uri": "https://localhost:8080/"
        },
        "id": "sKZUWLb86sOm",
        "outputId": "87cc0054-8f97-4e90-8d0b-283ee6845ae8"
      },
      "execution_count": null,
      "outputs": [
        {
          "output_type": "execute_result",
          "data": {
            "text/plain": [
              "[['man', 14.638447971781304],\n",
              " ['woman', 11.11111111111111],\n",
              " ['middle eastern', 10.052910052910052],\n",
              " ['young', 8.818342151675484],\n",
              " ['poor', 8.289241622574956],\n",
              " ['indian', 8.112874779541446],\n",
              " ['black', 5.996472663139329],\n",
              " ['hindu', 5.467372134038801],\n",
              " ['hispanic', 5.291005291005291],\n",
              " ['asian', 4.056437389770723],\n",
              " ['white', 3.880070546737213],\n",
              " ['gay', 2.6455026455026456],\n",
              " ['thin', 2.2927689594356258],\n",
              " ['tall', 1.5873015873015872],\n",
              " ['straight', 1.4109347442680775],\n",
              " ['light', 1.4109347442680775],\n",
              " ['latino', 1.2345679012345678],\n",
              " ['short', 1.0582010582010581],\n",
              " ['rich', 0.8818342151675485],\n",
              " ['attractive', 0.8818342151675485],\n",
              " ['suburb', 0.8818342151675485]]"
            ]
          },
          "metadata": {},
          "execution_count": 10
        }
      ]
    },
    {
      "cell_type": "code",
      "source": [
        "positive_bias_percentage_change = sorted([(bias[0],model_bias[1]-bias[1]) for (bias,model_bias) in zip(sorted(positive_bias_percentage),sorted(positive_model_bias_percentage))],key = lambda x: x[1])"
      ],
      "metadata": {
        "id": "eHnd_9V0ts7L"
      },
      "execution_count": null,
      "outputs": []
    },
    {
      "cell_type": "code",
      "source": [
        "negative_bias_percentage_change = sorted([(bias[0],model_bias[1]-bias[1]) for (bias,model_bias) in zip(sorted(negative_bias_percentage),sorted(negative_model_bias_percentage))],key = lambda x: x[1])"
      ],
      "metadata": {
        "id": "pL4XKZqy9USE"
      },
      "execution_count": null,
      "outputs": []
    },
    {
      "cell_type": "code",
      "source": [
        "positive_bias_percentage_change"
      ],
      "metadata": {
        "colab": {
          "base_uri": "https://localhost:8080/"
        },
        "id": "FGPNGRyUP8iL",
        "outputId": "b635afd9-fb44-4408-dad0-1cc9003b2d23"
      },
      "execution_count": null,
      "outputs": [
        {
          "output_type": "execute_result",
          "data": {
            "text/plain": [
              "[('poor', -10.018450685117351),\n",
              " ('ugly', -0.9230769230769231),\n",
              " ('gay', -0.5852665852665853),\n",
              " ('attractive', 0.11260344593677918),\n",
              " ('rich', 0.11260344593677918),\n",
              " ('short', 0.13512413512413501),\n",
              " ('thin', 0.138922805589472),\n",
              " ('black', 0.15031881698548322),\n",
              " ('latino', 0.15764482431149096),\n",
              " ('light', 0.18016551349884669),\n",
              " ('tall', 0.20268620268620263),\n",
              " ('hindu', 0.2366029032695698),\n",
              " ('suburb', 0.26644959978293303),\n",
              " ('young', 0.3568036901370224),\n",
              " ('asian', 0.3641296974630306),\n",
              " ('straight', 0.4878578211911544),\n",
              " ('white', 0.8031474698141361),\n",
              " ('indian', 1.0359517026183696),\n",
              " ('hispanic', 1.2910052910052912),\n",
              " ('woman', 1.7264957264957257),\n",
              " ('middle eastern', 1.7452177452177438),\n",
              " ('man', 2.0230633563966887)]"
            ]
          },
          "metadata": {},
          "execution_count": 8
        }
      ]
    },
    {
      "cell_type": "code",
      "source": [
        "negative_bias_percentage_change"
      ],
      "metadata": {
        "colab": {
          "base_uri": "https://localhost:8080/"
        },
        "id": "KXSwROA8QB0Z",
        "outputId": "8f627739-e9dd-4d62-949f-cf75763fccdf"
      },
      "execution_count": null,
      "outputs": [
        {
          "output_type": "execute_result",
          "data": {
            "text/plain": [
              "[('poor', -15.438459369984665),\n",
              " ('middle eastern', -5.177023257423334),\n",
              " ('indian', -3.958738503843331),\n",
              " ('man', -3.713066513605078),\n",
              " ('black', -1.7934869444775199),\n",
              " ('asian', -1.3099792288097731),\n",
              " ('gay', -0.5281846020449597),\n",
              " ('hindu', -0.13311473207606994),\n",
              " ('rich', 0.36250357465975847),\n",
              " ('attractive', 0.7087240016649519),\n",
              " ('short', 0.7794539242894696),\n",
              " ('jewish', 0.8916041037602875),\n",
              " ('old', 0.9427942491993271),\n",
              " ('straight', 1.0809974649174492),\n",
              " ('hispanic', 1.9963139024496979),\n",
              " ('suburb', 2.783705861220768),\n",
              " ('thin', 5.24073107262182),\n",
              " ('german', 5.409668729537935),\n",
              " ('light', 9.764393030405724),\n",
              " ('tall', 10.245560043598127),\n",
              " ('latino', 14.234524140275244)]"
            ]
          },
          "metadata": {},
          "execution_count": 9
        }
      ]
    },
    {
      "cell_type": "code",
      "source": [
        ""
      ],
      "metadata": {
        "id": "alur7Q7NP-Bc"
      },
      "execution_count": null,
      "outputs": []
    },
    {
      "cell_type": "code",
      "source": [
        "with open('negative_model_bias_percentage_change.json', 'w', encoding='utf-8') as f:\n",
        "    json.dump(negative_bias_percentage_change, f, ensure_ascii=False, indent=4)"
      ],
      "metadata": {
        "id": "KPUk9UFZ9wax"
      },
      "execution_count": null,
      "outputs": []
    },
    {
      "cell_type": "code",
      "source": [
        "with open('positive_model_bias_percentage_change.json', 'w', encoding='utf-8') as f:\n",
        "    json.dump(positive_bias_percentage_change, f, ensure_ascii=False, indent=4)"
      ],
      "metadata": {
        "id": "X17WubOu9zl_"
      },
      "execution_count": null,
      "outputs": []
    }
  ]
}