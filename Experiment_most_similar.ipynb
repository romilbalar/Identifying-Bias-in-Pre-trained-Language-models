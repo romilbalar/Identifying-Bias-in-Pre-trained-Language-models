{
  "nbformat": 4,
  "nbformat_minor": 0,
  "metadata": {
    "colab": {
      "name": "Experiment_most_similar.ipynb",
      "provenance": [],
      "collapsed_sections": []
    },
    "kernelspec": {
      "name": "python3",
      "display_name": "Python 3"
    },
    "language_info": {
      "name": "python"
    }
  },
  "cells": [
    {
      "cell_type": "code",
      "metadata": {
        "id": "fL8PJ-RYJyh5",
        "colab": {
          "base_uri": "https://localhost:8080/"
        },
        "outputId": "ebe041dd-cb51-487c-f449-bc8fdcea533c"
      },
      "source": [
        "import gensim.downloader as api\n",
        "wv = api.load('glove-wiki-gigaword-50')\n",
        "\n",
        "from gensim.test.utils import common_texts\n",
        "from gensim.models import Word2Vec\n",
        "model = Word2Vec(sentences=common_texts, window=5, min_count=1, workers=4)\n",
        "model.save(\"word2vec.model\")"
      ],
      "execution_count": null,
      "outputs": [
        {
          "output_type": "stream",
          "name": "stdout",
          "text": [
            "[==================================================] 100.0% 66.0/66.0MB downloaded\n"
          ]
        }
      ]
    },
    {
      "cell_type": "code",
      "metadata": {
        "colab": {
          "base_uri": "https://localhost:8080/"
        },
        "id": "Abxq3nVPNFWQ",
        "outputId": "18ffe3d4-e5cd-410c-e7dc-ccf757814a89"
      },
      "source": [
        "print(wv.most_similar(positive=['white','fat'],topn=20)) "
      ],
      "execution_count": null,
      "outputs": [
        {
          "output_type": "stream",
          "name": "stdout",
          "text": [
            "[('dirty', 0.9341118931770325), ('black', 0.919694721698761), ('big', 0.9143638610839844), ('side', 0.9128063917160034), ('dog', 0.9123255014419556), ('body', 0.9115502238273621), ('like', 0.9077205657958984), ('hot', 0.9075658321380615), ('fresh', 0.9056155681610107), ('look', 0.9047288298606873), ('small', 0.9046508073806763), ('dick', 0.903618335723877), ('soft', 0.9016613364219666), ('some', 0.8995513916015625), ('head', 0.8983564376831055), ('hair', 0.8966571688652039), ('ass', 0.8956024050712585), ('kid', 0.8955863118171692), ('guy', 0.8954818844795227), ('tall', 0.8946709632873535)]\n"
          ]
        }
      ]
    },
    {
      "cell_type": "markdown",
      "metadata": {
        "id": "jIr2r532Tg8_"
      },
      "source": [
        ""
      ]
    },
    {
      "cell_type": "code",
      "metadata": {
        "id": "_VqOjHixRtVt",
        "colab": {
          "base_uri": "https://localhost:8080/"
        },
        "outputId": "6841b134-97b6-41bb-8a17-14f63728d247"
      },
      "source": [
        "print(wv.most_similar(positive=[\"woman\"],negative=[\"gender\"],topn=20))"
      ],
      "execution_count": null,
      "outputs": [
        {
          "output_type": "stream",
          "name": "stdout",
          "text": [
            "[('fisherman', 0.6371198892593384), ('rescued', 0.6162679195404053), ('aboard', 0.6085440516471863), ('landed', 0.5953656435012817), ('crewman', 0.5876351594924927), ('man', 0.5840024352073669), ('dies', 0.5785831212997437), ('drowned', 0.5776945948600769), ('maid', 0.5764115452766418), ('lover', 0.5719631314277649), ('grandmother', 0.5703369379043579), ('friend', 0.5686007738113403), ('accidentally', 0.567967414855957), ('aground', 0.5568824410438538), ('boy', 0.5566572546958923), ('boarded', 0.5505160093307495), ('waitress', 0.5499815344810486), ('blew', 0.5457102060317993), ('bodyguard', 0.543908417224884), ('barge', 0.5428344011306763)]\n"
          ]
        }
      ]
    }
  ]
}